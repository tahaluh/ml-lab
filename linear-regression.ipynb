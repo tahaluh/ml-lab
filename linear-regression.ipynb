{
 "cells": [
  {
   "cell_type": "code",
   "execution_count": 1,
   "id": "7e3fac3b",
   "metadata": {
    "_cell_guid": "b1076dfc-b9ad-4769-8c92-a6c4dae69d19",
    "_uuid": "8f2839f25d086af736a60e9eeb907d3b93b6e0e5",
    "execution": {
     "iopub.execute_input": "2025-05-05T23:43:23.903301Z",
     "iopub.status.busy": "2025-05-05T23:43:23.902840Z",
     "iopub.status.idle": "2025-05-05T23:43:26.115943Z",
     "shell.execute_reply": "2025-05-05T23:43:26.114740Z"
    },
    "papermill": {
     "duration": 2.220437,
     "end_time": "2025-05-05T23:43:26.117962",
     "exception": false,
     "start_time": "2025-05-05T23:43:23.897525",
     "status": "completed"
    },
    "tags": []
   },
   "outputs": [],
   "source": [
    "import numpy as np \n",
    "import pandas as pd"
   ]
  },
  {
   "cell_type": "code",
   "execution_count": 2,
   "id": "626e6035",
   "metadata": {
    "execution": {
     "iopub.execute_input": "2025-05-05T23:43:26.125616Z",
     "iopub.status.busy": "2025-05-05T23:43:26.125057Z",
     "iopub.status.idle": "2025-05-05T23:43:26.751655Z",
     "shell.execute_reply": "2025-05-05T23:43:26.750530Z"
    },
    "papermill": {
     "duration": 0.631856,
     "end_time": "2025-05-05T23:43:26.753158",
     "exception": false,
     "start_time": "2025-05-05T23:43:26.121302",
     "status": "completed"
    },
    "tags": []
   },
   "outputs": [
    {
     "name": "stderr",
     "output_type": "stream",
     "text": [
      "/tmp/ipykernel_13/1311316381.py:10: DeprecationWarning: load_dataset is deprecated and will be removed in future version.\n",
      "  df = kagglehub.load_dataset(\n"
     ]
    },
    {
     "name": "stdout",
     "output_type": "stream",
     "text": [
      "First 5 records:       TV  Radio  Newspaper  Sales\n",
      "0  230.1   37.8       69.2   22.1\n",
      "1   44.5   39.3       45.1   10.4\n",
      "2   17.2   45.9       69.3   12.0\n",
      "3  151.5   41.3       58.5   16.5\n",
      "4  180.8   10.8       58.4   17.9\n"
     ]
    }
   ],
   "source": [
    "# Install dependencies as needed:\n",
    "# pip install kagglehub[pandas-datasets]\n",
    "import kagglehub\n",
    "from kagglehub import KaggleDatasetAdapter\n",
    "\n",
    "# Set the path to the file you'd like to load\n",
    "file_path = \"advertising.csv\"\n",
    "\n",
    "# Load the latest version\n",
    "df = kagglehub.load_dataset(\n",
    "  KaggleDatasetAdapter.PANDAS,\n",
    "  \"ashydv/advertising-dataset\",\n",
    "  file_path,\n",
    "  # Provide any additional arguments like \n",
    "  # sql_query or pandas_kwargs. See the \n",
    "  # documenation for more information:\n",
    "  # https://github.com/Kaggle/kagglehub/blob/main/README.md#kaggledatasetadapterpandas\n",
    ")\n",
    "\n",
    "print(\"First 5 records:\", df.head())"
   ]
  },
  {
   "cell_type": "code",
   "execution_count": 3,
   "id": "caca611c",
   "metadata": {
    "execution": {
     "iopub.execute_input": "2025-05-05T23:43:26.760496Z",
     "iopub.status.busy": "2025-05-05T23:43:26.760140Z",
     "iopub.status.idle": "2025-05-05T23:43:26.768391Z",
     "shell.execute_reply": "2025-05-05T23:43:26.767503Z"
    },
    "papermill": {
     "duration": 0.01348,
     "end_time": "2025-05-05T23:43:26.769837",
     "exception": false,
     "start_time": "2025-05-05T23:43:26.756357",
     "status": "completed"
    },
    "tags": []
   },
   "outputs": [],
   "source": [
    "class HMLinearRegression:\n",
    "    def __init__(self, lr=0.01):\n",
    "        self.lr = lr\n",
    "        self.weights = None\n",
    "        self.bias = None\n",
    "\n",
    "    def _normalize(self, X):\n",
    "        \n",
    "        return (X - self.mean) / self.std\n",
    "        \n",
    "    def fit(self, X, y, epochs=1000, verbose=0):\n",
    "        self.mean = np.mean(X, axis=0)\n",
    "        self.std = np.std(X, axis=0)\n",
    "        X = self._normalize(X)\n",
    "\n",
    "        n_samples, n_features = X.shape\n",
    "        self.weights = np.zeros(n_features)\n",
    "        self.bias = 0\n",
    "\n",
    "        for epoch in range(epochs):\n",
    "            y_predicted = np.dot(X, self.weights) + self.bias\n",
    "            error = y_predicted - y\n",
    "\n",
    "            dw = (1 / n_samples) * np.dot(X.T, error)\n",
    "            db = (1 / n_samples) * np.sum(error)\n",
    "\n",
    "            self.weights -= self.lr * dw\n",
    "            self.bias -= self.lr * db\n",
    "\n",
    "            if verbose and epoch % 100 == 0:\n",
    "                loss = (1 / n_samples) * np.sum(error ** 2)\n",
    "                print(f\"Epoch {epoch}, Loss: {loss}\")\n",
    "\n",
    "\n",
    "    def predict(self, X):\n",
    "        #ŷ = w * x + b\n",
    "        X = self._normalize(X)\n",
    "        return np.dot(X, self.weights) + self.bias"
   ]
  },
  {
   "cell_type": "code",
   "execution_count": 4,
   "id": "7190084b",
   "metadata": {
    "execution": {
     "iopub.execute_input": "2025-05-05T23:43:26.776631Z",
     "iopub.status.busy": "2025-05-05T23:43:26.776056Z",
     "iopub.status.idle": "2025-05-05T23:43:46.387560Z",
     "shell.execute_reply": "2025-05-05T23:43:46.386398Z"
    },
    "papermill": {
     "duration": 19.617965,
     "end_time": "2025-05-05T23:43:46.390554",
     "exception": false,
     "start_time": "2025-05-05T23:43:26.772589",
     "status": "completed"
    },
    "tags": []
   },
   "outputs": [
    {
     "name": "stderr",
     "output_type": "stream",
     "text": [
      "2025-05-05 23:43:28.998421: E external/local_xla/xla/stream_executor/cuda/cuda_fft.cc:477] Unable to register cuFFT factory: Attempting to register factory for plugin cuFFT when one has already been registered\n",
      "WARNING: All log messages before absl::InitializeLog() is called are written to STDERR\n",
      "E0000 00:00:1746488609.251768      13 cuda_dnn.cc:8310] Unable to register cuDNN factory: Attempting to register factory for plugin cuDNN when one has already been registered\n",
      "E0000 00:00:1746488609.331972      13 cuda_blas.cc:1418] Unable to register cuBLAS factory: Attempting to register factory for plugin cuBLAS when one has already been registered\n"
     ]
    }
   ],
   "source": [
    "from keras.models import Sequential\n",
    "from tensorflow.keras.layers import Dense, Normalization\n",
    "\n",
    "\n",
    "from sklearn.model_selection import train_test_split\n",
    "from sklearn.metrics import mean_absolute_error\n",
    "from tensorflow.keras.optimizers import SGD\n",
    "\n",
    "import matplotlib.pyplot as plt\n"
   ]
  },
  {
   "cell_type": "code",
   "execution_count": 5,
   "id": "4ecf1965",
   "metadata": {
    "execution": {
     "iopub.execute_input": "2025-05-05T23:43:46.405164Z",
     "iopub.status.busy": "2025-05-05T23:43:46.404074Z",
     "iopub.status.idle": "2025-05-05T23:43:46.444793Z",
     "shell.execute_reply": "2025-05-05T23:43:46.443702Z"
    },
    "papermill": {
     "duration": 0.049862,
     "end_time": "2025-05-05T23:43:46.447159",
     "exception": false,
     "start_time": "2025-05-05T23:43:46.397297",
     "status": "completed"
    },
    "tags": []
   },
   "outputs": [
    {
     "name": "stdout",
     "output_type": "stream",
     "text": [
      "(200, 4)\n"
     ]
    },
    {
     "data": {
      "text/html": [
       "<div>\n",
       "<style scoped>\n",
       "    .dataframe tbody tr th:only-of-type {\n",
       "        vertical-align: middle;\n",
       "    }\n",
       "\n",
       "    .dataframe tbody tr th {\n",
       "        vertical-align: top;\n",
       "    }\n",
       "\n",
       "    .dataframe thead th {\n",
       "        text-align: right;\n",
       "    }\n",
       "</style>\n",
       "<table border=\"1\" class=\"dataframe\">\n",
       "  <thead>\n",
       "    <tr style=\"text-align: right;\">\n",
       "      <th></th>\n",
       "      <th>TV</th>\n",
       "      <th>Radio</th>\n",
       "      <th>Newspaper</th>\n",
       "    </tr>\n",
       "  </thead>\n",
       "  <tbody>\n",
       "    <tr>\n",
       "      <th>0</th>\n",
       "      <td>230.1</td>\n",
       "      <td>37.8</td>\n",
       "      <td>69.2</td>\n",
       "    </tr>\n",
       "    <tr>\n",
       "      <th>1</th>\n",
       "      <td>44.5</td>\n",
       "      <td>39.3</td>\n",
       "      <td>45.1</td>\n",
       "    </tr>\n",
       "    <tr>\n",
       "      <th>2</th>\n",
       "      <td>17.2</td>\n",
       "      <td>45.9</td>\n",
       "      <td>69.3</td>\n",
       "    </tr>\n",
       "    <tr>\n",
       "      <th>3</th>\n",
       "      <td>151.5</td>\n",
       "      <td>41.3</td>\n",
       "      <td>58.5</td>\n",
       "    </tr>\n",
       "    <tr>\n",
       "      <th>4</th>\n",
       "      <td>180.8</td>\n",
       "      <td>10.8</td>\n",
       "      <td>58.4</td>\n",
       "    </tr>\n",
       "  </tbody>\n",
       "</table>\n",
       "</div>"
      ],
      "text/plain": [
       "      TV  Radio  Newspaper\n",
       "0  230.1   37.8       69.2\n",
       "1   44.5   39.3       45.1\n",
       "2   17.2   45.9       69.3\n",
       "3  151.5   41.3       58.5\n",
       "4  180.8   10.8       58.4"
      ]
     },
     "execution_count": 5,
     "metadata": {},
     "output_type": "execute_result"
    }
   ],
   "source": [
    "y = df[\"Sales\"]\n",
    "x = df.drop(\"Sales\", axis=1)\n",
    "\n",
    "print(df.shape)\n",
    "x.head()"
   ]
  },
  {
   "cell_type": "code",
   "execution_count": 6,
   "id": "70a22d64",
   "metadata": {
    "execution": {
     "iopub.execute_input": "2025-05-05T23:43:46.455370Z",
     "iopub.status.busy": "2025-05-05T23:43:46.454413Z",
     "iopub.status.idle": "2025-05-05T23:43:46.463636Z",
     "shell.execute_reply": "2025-05-05T23:43:46.462709Z"
    },
    "papermill": {
     "duration": 0.014838,
     "end_time": "2025-05-05T23:43:46.465352",
     "exception": false,
     "start_time": "2025-05-05T23:43:46.450514",
     "status": "completed"
    },
    "tags": []
   },
   "outputs": [],
   "source": [
    "x_train, x_test, y_train, y_test = train_test_split(x, y, test_size=0.3, random_state=42)"
   ]
  },
  {
   "cell_type": "code",
   "execution_count": 7,
   "id": "b34ab567",
   "metadata": {
    "execution": {
     "iopub.execute_input": "2025-05-05T23:43:46.475535Z",
     "iopub.status.busy": "2025-05-05T23:43:46.474341Z",
     "iopub.status.idle": "2025-05-05T23:44:16.060189Z",
     "shell.execute_reply": "2025-05-05T23:44:16.059316Z"
    },
    "papermill": {
     "duration": 29.591917,
     "end_time": "2025-05-05T23:44:16.062235",
     "exception": false,
     "start_time": "2025-05-05T23:43:46.470318",
     "status": "completed"
    },
    "tags": []
   },
   "outputs": [
    {
     "name": "stderr",
     "output_type": "stream",
     "text": [
      "2025-05-05 23:43:46.484553: E external/local_xla/xla/stream_executor/cuda/cuda_driver.cc:152] failed call to cuInit: INTERNAL: CUDA error: Failed call to cuInit: UNKNOWN ERROR (303)\n"
     ]
    },
    {
     "name": "stdout",
     "output_type": "stream",
     "text": [
      "\u001b[1m2/2\u001b[0m \u001b[32m━━━━━━━━━━━━━━━━━━━━\u001b[0m\u001b[37m\u001b[0m \u001b[1m0s\u001b[0m 33ms/step\n",
      "MAE: 1.167730776468913\n"
     ]
    }
   ],
   "source": [
    "model = Sequential()\n",
    "\n",
    "x_train = np.array(x_train).astype(np.float32)\n",
    "x_test = np.array(x_test).astype(np.float32)\n",
    "\n",
    "normalizer = Normalization()\n",
    "normalizer.adapt(x_train)\n",
    "\n",
    "model = Sequential([\n",
    "    normalizer,                    \n",
    "    Dense(1, activation='linear') \n",
    "])\n",
    "\n",
    "optimizer = SGD(learning_rate=0.01)\n",
    "model.compile(optimizer=optimizer, loss='mae')\n",
    "\n",
    "model.fit(x_train, y_train, epochs=1000, verbose=0)\n",
    "\n",
    "predict = model.predict(x_test)\n",
    "mae = mean_absolute_error(y_test, predict)\n",
    "\n",
    "print(\"MAE:\", mae)"
   ]
  },
  {
   "cell_type": "code",
   "execution_count": 8,
   "id": "e493154e",
   "metadata": {
    "execution": {
     "iopub.execute_input": "2025-05-05T23:44:16.070517Z",
     "iopub.status.busy": "2025-05-05T23:44:16.070139Z",
     "iopub.status.idle": "2025-05-05T23:44:16.473655Z",
     "shell.execute_reply": "2025-05-05T23:44:16.472565Z"
    },
    "papermill": {
     "duration": 0.409162,
     "end_time": "2025-05-05T23:44:16.475257",
     "exception": false,
     "start_time": "2025-05-05T23:44:16.066095",
     "status": "completed"
    },
    "tags": []
   },
   "outputs": [
    {
     "name": "stdout",
     "output_type": "stream",
     "text": [
      "\u001b[1m2/2\u001b[0m \u001b[32m━━━━━━━━━━━━━━━━━━━━\u001b[0m\u001b[37m\u001b[0m \u001b[1m0s\u001b[0m 3ms/step \n"
     ]
    },
    {
     "data": {
      "image/png": "[encoded data removed]",
      "text/plain": [
       "<Figure size 640x480 with 1 Axes>"
      ]
     },
     "metadata": {},
     "output_type": "display_data"
    }
   ],
   "source": [
    "y_pred = model.predict(x_test)\n",
    "\n",
    "plt.scatter(y_test, y_pred, color='green')\n",
    "plt.plot([y_test.min(), y_test.max()], [y_test.min(), y_test.max()], 'k--')  # linha ideal\n",
    "plt.xlabel(\"True Values\")\n",
    "plt.ylabel(\"Predicted Values\")\n",
    "plt.title(\"Predicted vs Real\")\n",
    "plt.show()\n"
   ]
  },
  {
   "cell_type": "code",
   "execution_count": 9,
   "id": "5e5bb071",
   "metadata": {
    "execution": {
     "iopub.execute_input": "2025-05-05T23:44:16.484859Z",
     "iopub.status.busy": "2025-05-05T23:44:16.484530Z",
     "iopub.status.idle": "2025-05-05T23:44:16.697972Z",
     "shell.execute_reply": "2025-05-05T23:44:16.696850Z"
    },
    "papermill": {
     "duration": 0.219854,
     "end_time": "2025-05-05T23:44:16.699625",
     "exception": false,
     "start_time": "2025-05-05T23:44:16.479771",
     "status": "completed"
    },
    "tags": []
   },
   "outputs": [
    {
     "name": "stdout",
     "output_type": "stream",
     "text": [
      "MAE: 1.1594906301345878\n"
     ]
    }
   ],
   "source": [
    "model = HMLinearRegression()\n",
    "\n",
    "model.fit(x_train, y_train, epochs=1000, verbose=0)\n",
    "\n",
    "predict = model.predict(x_test)\n",
    "\n",
    "mae = mean_absolute_error(y_test, predict)\n",
    "print(\"MAE:\", mae)"
   ]
  },
  {
   "cell_type": "code",
   "execution_count": 10,
   "id": "8e559f09",
   "metadata": {
    "execution": {
     "iopub.execute_input": "2025-05-05T23:44:16.710008Z",
     "iopub.status.busy": "2025-05-05T23:44:16.708934Z",
     "iopub.status.idle": "2025-05-05T23:44:16.929927Z",
     "shell.execute_reply": "2025-05-05T23:44:16.928441Z"
    },
    "papermill": {
     "duration": 0.227868,
     "end_time": "2025-05-05T23:44:16.931601",
     "exception": false,
     "start_time": "2025-05-05T23:44:16.703733",
     "status": "completed"
    },
    "tags": []
   },
   "outputs": [
    {
     "data": {
      "image/png": "[encoded data removed]",
      "text/plain": [
       "<Figure size 640x480 with 1 Axes>"
      ]
     },
     "metadata": {},
     "output_type": "display_data"
    }
   ],
   "source": [
    "y_pred = model.predict(x_test)\n",
    "\n",
    "plt.scatter(y_test, y_pred, color='green')\n",
    "plt.plot([y_test.min(), y_test.max()], [y_test.min(), y_test.max()], 'k--')  # linha ideal\n",
    "plt.xlabel(\"True Values\")\n",
    "plt.ylabel(\"Predicted Values\")\n",
    "plt.title(\"Predicted vs Real\")\n",
    "plt.show()\n"
   ]
  }
 ],
 "metadata": {
  "kaggle": {
   "accelerator": "none",
   "dataSources": [
    {
     "databundleVersionId": 330333,
     "datasetId": 133357,
     "sourceId": 317184,
     "sourceType": "datasetVersion"
    }
   ],
   "dockerImageVersionId": 31012,
   "isGpuEnabled": false,
   "isInternetEnabled": false,
   "language": "python",
   "sourceType": "notebook"
  },
  "kernelspec": {
   "display_name": "Python 3",
   "language": "python",
   "name": "python3"
  },
  "language_info": {
   "codemirror_mode": {
    "name": "ipython",
    "version": 3
   },
   "file_extension": ".py",
   "mimetype": "text/x-python",
   "name": "python",
   "nbconvert_exporter": "python",
   "pygments_lexer": "ipython3",
   "version": "3.11.11"
  },
  "papermill": {
   "default_parameters": {},
   "duration": 61.261921,
   "end_time": "2025-05-05T23:44:19.988350",
   "environment_variables": {},
   "exception": null,
   "input_path": "__notebook__.ipynb",
   "output_path": "__notebook__.ipynb",
   "parameters": {},
   "start_time": "2025-05-05T23:43:18.726429",
   "version": "2.6.0"
  }
 },
 "nbformat": 4,
 "nbformat_minor": 5
}
